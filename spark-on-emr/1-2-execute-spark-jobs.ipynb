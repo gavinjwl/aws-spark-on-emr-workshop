{
 "cells": [
  {
   "cell_type": "markdown",
   "source": [
    "# Execute Apache Spark jobs\n",
    "\n",
    "1. spark-submit\n",
    "1. EMR Steps: Console and CLI"
   ],
   "metadata": {}
  },
  {
   "cell_type": "markdown",
   "source": [
    "## Spark-Submit and Spark-SQL"
   ],
   "metadata": {}
  },
  {
   "cell_type": "markdown",
   "source": [
    "SSH into EMR master"
   ],
   "metadata": {}
  },
  {
   "cell_type": "markdown",
   "source": [
    "spark-sql example\n",
    "\n",
    "```bash\n",
    "spark-sql \\\n",
    "    --name sample-sql \\\n",
    "    -f sample.sql \\\n",
    "    -d source_database=default \\\n",
    "    -d source_table=spark_on_emr_workshop \\\n",
    "    -d target_database=curated \\\n",
    "    -d target_table=tripdata \\\n",
    "    -d target_host=<your-bucket>\n",
    "```"
   ],
   "metadata": {}
  },
  {
   "cell_type": "markdown",
   "source": [
    "spark-submit\n",
    "\n",
    "```bash\n",
    "spark-submit \\\n",
    "    --name sample-spark \\\n",
    "    sample.py \\\n",
    "        default \\\n",
    "        spark_on_emr_workshop \\\n",
    "        curated \\\n",
    "        tripdata \\\n",
    "        s3://<your-bucket>\n",
    "```"
   ],
   "metadata": {}
  },
  {
   "cell_type": "markdown",
   "source": [
    "## EMR add-steps"
   ],
   "metadata": {}
  },
  {
   "cell_type": "markdown",
   "source": [
    "Execute in Cloud9"
   ],
   "metadata": {}
  },
  {
   "cell_type": "markdown",
   "source": [
    "EMR add-steps example\n",
    "\n",
    "```bash\n",
    "aws emr add-steps \\\n",
    "    --cluster-id j-2J5NATVF6L3OP \\\n",
    "    --steps file://step.json\n",
    "        \n",
    "```\n",
    "\n",
    "Content of step.json\n",
    "\n",
    "```json\n",
    " [\n",
    "    {\n",
    "        \"Name\": \"sample-spark\",\n",
    "        \"Type\": \"CUSTOM_JAR\",\n",
    "        \"Jar\": \"command-runner.jar\",\n",
    "        \"Args\": [\n",
    "            \"spark-submit\",\n",
    "            \"--name\", \"sample-spark\",\n",
    "            \"s3://<your-bucket>/sample-spark.py\",\n",
    "            \"default\",\n",
    "            \"spark_on_emr_workshop\",\n",
    "            \"curated\",\n",
    "            \"tripdata\",\n",
    "            \"s3://<your-bucket>\"\n",
    "        ],\n",
    "        \"ActionOnFailure\": \"CONTINUE\"\n",
    "    }\n",
    "]\n",
    "```"
   ],
   "metadata": {}
  }
 ],
 "metadata": {
  "orig_nbformat": 4,
  "language_info": {
   "name": "python"
  }
 },
 "nbformat": 4,
 "nbformat_minor": 2
}