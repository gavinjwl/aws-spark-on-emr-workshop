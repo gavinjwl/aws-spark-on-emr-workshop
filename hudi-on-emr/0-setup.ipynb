{
 "cells": [
  {
   "cell_type": "markdown",
   "source": [
    "# Setup Apache Hudi"
   ],
   "metadata": {}
  },
  {
   "cell_type": "markdown",
   "source": [
    "## Amazon EMR Notebooks\n",
    "\n",
    "1. SSH into EMR master\n",
    "\n",
    "2. Create DFS Folder for hudi libraris and upload libraries\n",
    "\n",
    "```bash\n",
    "hdfs dfs -mkdir -p /apps/hudi/lib\n",
    "hdfs dfs -copyFromLocal /usr/lib/hudi/hudi-spark-bundle.jar /apps/hudi/lib/hudi-spark-bundle.jar\n",
    "hdfs dfs -copyFromLocal /usr/lib/spark/external/lib/spark-avro.jar /apps/hudi/lib/spark-avro.jar\n",
    "\n",
    "hdfs dfs -ls /apps/hudi/lib\n",
    "```"
   ],
   "metadata": {}
  },
  {
   "cell_type": "markdown",
   "source": [
    "## For spark-submit in EMR\n",
    "\n",
    "```bash\n",
    "spark-submit \\\n",
    "    --conf \"spark.serializer=org.apache.spark.serializer.KryoSerializer\"\\\n",
    "    --conf \"spark.sql.hive.convertMetastoreParquet=false\" \\\n",
    "    --jars /usr/lib/hudi/hudi-spark-bundle.jar,/usr/lib/spark/external/lib/spark-avro.jar\n",
    "```"
   ],
   "metadata": {}
  },
  {
   "cell_type": "markdown",
   "source": [
    "## For spark-submit\n",
    "\n",
    "```bash\n",
    "# if pyspark\n",
    "export PYSPARK_PYTHON=$(which python3)\n",
    "\n",
    "# for spark3\n",
    "spark-submit \\\n",
    "    --packages org.apache.hudi:hudi-spark3-bundle_2.12:0.9.0,org.apache.spark:spark-avro_2.12:3.0.1 \\\n",
    "    --conf 'spark.serializer=org.apache.spark.serializer.KryoSerializer'\n",
    "\n",
    "# for spark2 with scala 2.12\n",
    "spark-submit \\\n",
    "    --packages org.apache.hudi:hudi-spark-bundle_2.12:0.9.0,org.apache.spark:spark-avro_2.12:2.4.4 \\\n",
    "    --conf 'spark.serializer=org.apache.spark.serializer.KryoSerializer'\n",
    "\n",
    "# for spark2 with scala 2.11\n",
    "spark-submit \\\n",
    "    --packages org.apache.hudi:hudi-spark-bundle_2.11:0.9.0,org.apache.spark:spark-avro_2.11:2.4.4 \\\n",
    "    --conf 'spark.serializer=org.apache.spark.serializer.KryoSerializer'\n",
    "```"
   ],
   "metadata": {}
  },
  {
   "cell_type": "code",
   "execution_count": null,
   "source": [],
   "outputs": [],
   "metadata": {}
  }
 ],
 "metadata": {
  "kernelspec": {
   "name": "python3",
   "display_name": "Python 3.7.11 64-bit"
  },
  "language_info": {
   "codemirror_mode": {
    "name": "python",
    "version": 3
   },
   "mimetype": "text/x-python",
   "name": "python",
   "pygments_lexer": "python3",
   "version": "3.7.11"
  },
  "interpreter": {
   "hash": "407910dc9194d5420ce0f0143fecb83fef8c348660603d21cda0898c7dd6e099"
  }
 },
 "nbformat": 4,
 "nbformat_minor": 5
}