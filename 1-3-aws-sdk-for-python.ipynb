{
 "cells": [
  {
   "cell_type": "markdown",
   "source": [
    "# AWS SDK for Python (Boto3)\n",
    "\n",
    "1. S3 basic operations\n",
    "1. EMR Steps control"
   ],
   "metadata": {}
  },
  {
   "cell_type": "markdown",
   "source": [
    "## S3 basic operations"
   ],
   "metadata": {}
  },
  {
   "cell_type": "markdown",
   "source": [
    "Install boto3 by pip"
   ],
   "metadata": {}
  },
  {
   "cell_type": "code",
   "execution_count": null,
   "source": [
    "%%sh\n",
    "/emr/notebook-env/bin/pip install --user boto3"
   ],
   "outputs": [],
   "metadata": {}
  },
  {
   "cell_type": "markdown",
   "source": [
    "Show boto3 version"
   ],
   "metadata": {}
  },
  {
   "cell_type": "code",
   "execution_count": null,
   "source": [
    "import boto3\n",
    "import json\n",
    "\n",
    "boto3.__version__"
   ],
   "outputs": [],
   "metadata": {}
  },
  {
   "cell_type": "markdown",
   "source": [
    "Initial S3 client"
   ],
   "metadata": {}
  },
  {
   "cell_type": "code",
   "execution_count": null,
   "source": [
    "s3 = boto3.client('s3')"
   ],
   "outputs": [],
   "metadata": {}
  },
  {
   "cell_type": "markdown",
   "source": [
    "List buckets"
   ],
   "metadata": {}
  },
  {
   "cell_type": "code",
   "execution_count": null,
   "source": [
    "resp = s3.list_buckets()\n",
    "\n",
    "print(json.dumps(resp, indent=2))"
   ],
   "outputs": [],
   "metadata": {}
  },
  {
   "cell_type": "code",
   "execution_count": null,
   "source": [
    "buckets = s3.list_buckets()['Buckets']\n",
    "\n",
    "for bucket in buckets:\n",
    "    print(bucket['Name'])"
   ],
   "outputs": [],
   "metadata": {}
  },
  {
   "cell_type": "markdown",
   "source": [
    "Prepare file for uploading"
   ],
   "metadata": {}
  },
  {
   "cell_type": "code",
   "execution_count": null,
   "source": [
    "local_file_path = '/home/emr-notebook/hello.txt'\n",
    "\n",
    "with open(local_file_path, 'w+') as f:\n",
    "    f.write('hello world')"
   ],
   "outputs": [],
   "metadata": {}
  },
  {
   "cell_type": "markdown",
   "source": [
    "upload_file and upload_fileobj"
   ],
   "metadata": {}
  },
  {
   "cell_type": "code",
   "execution_count": null,
   "source": [
    "bucket = ''"
   ],
   "outputs": [],
   "metadata": {}
  },
  {
   "cell_type": "code",
   "execution_count": null,
   "source": [
    "key_1 = 'hello.txt'\n",
    "key_2 = 'key_2/hello.txt'\n",
    "\n",
    "with open(local_file_path, 'rb') as f:\n",
    "    resp = s3.upload_file(local_file_path, bucket, key_1)\n",
    "    print(json.dumps(resp, indent=2))\n",
    "\n",
    "    resp = s3.upload_fileobj(f, bucket, key_2)\n",
    "    print(json.dumps(resp, indent=2))"
   ],
   "outputs": [],
   "metadata": {}
  },
  {
   "cell_type": "markdown",
   "source": [
    "put_object"
   ],
   "metadata": {}
  },
  {
   "cell_type": "code",
   "execution_count": null,
   "source": [
    "key_3 = 'key_3/world.txt'\n",
    "\n",
    "resp = s3.put_object(\n",
    "    Bucket=bucket,\n",
    "    Key=key_3,\n",
    "    Body='hello world 123'.encode(),\n",
    ")\n",
    "print(json.dumps(resp, indent=2))"
   ],
   "outputs": [],
   "metadata": {}
  },
  {
   "cell_type": "markdown",
   "source": [
    "List objects"
   ],
   "metadata": {}
  },
  {
   "cell_type": "code",
   "execution_count": null,
   "source": [
    "resp = s3.list_objects_v2(\n",
    "    Bucket=bucket,\n",
    "    MaxKeys=5,\n",
    ")\n",
    "print(json.dumps(resp, indent=2))"
   ],
   "outputs": [],
   "metadata": {}
  },
  {
   "cell_type": "code",
   "execution_count": null,
   "source": [
    "resp = s3.list_objects_v2(\n",
    "    Bucket=bucket,\n",
    "    Prefix='key_2',\n",
    ")\n",
    "print(json.dumps(resp, indent=2))"
   ],
   "outputs": [],
   "metadata": {}
  },
  {
   "cell_type": "markdown",
   "source": [
    "Download objects"
   ],
   "metadata": {}
  },
  {
   "cell_type": "code",
   "execution_count": null,
   "source": [
    "with open('/home/emr-notebook/hello_1.txt', 'wb') as f:\n",
    "    s3.download_fileobj(bucket, key_1, f)\n",
    "    \n",
    "resp = s3.download_file(bucket, key_2, '/home/emr-notebook/hello_2.txt')\n",
    "print(json.dumps(resp, indent=2))"
   ],
   "outputs": [],
   "metadata": {}
  },
  {
   "cell_type": "code",
   "execution_count": null,
   "source": [
    "resp = s3.get_object(\n",
    "    Bucket=bucket,\n",
    "    Key=key_3,\n",
    ")\n",
    "\n",
    "print(json.dumps(resp, indent=2))\n",
    "\n",
    "body = resp['Body']\n",
    "\n",
    "bytes_ = body.read()\n",
    "\n",
    "print(bytes_.decode('utf-8'))"
   ],
   "outputs": [],
   "metadata": {}
  },
  {
   "cell_type": "markdown",
   "source": [
    "Delete objects"
   ],
   "metadata": {}
  },
  {
   "cell_type": "code",
   "execution_count": null,
   "source": [
    "resp = s3.delete_objects(\n",
    "    Bucket=bucket,\n",
    "    Delete={\n",
    "        'Objects': [\n",
    "            {\n",
    "                'Key': key_1,\n",
    "            },\n",
    "            {\n",
    "                'Key': key_2,\n",
    "            },\n",
    "            {\n",
    "                'Key': key_3,\n",
    "            },\n",
    "        ]\n",
    "    }\n",
    ")\n",
    "print(json.dumps(resp, indent=2))"
   ],
   "outputs": [],
   "metadata": {}
  },
  {
   "cell_type": "markdown",
   "source": [
    "## EMR Steps control"
   ],
   "metadata": {}
  },
  {
   "cell_type": "code",
   "execution_count": null,
   "source": [
    "emr = boto3.client('emr', region_name='us-east-2')"
   ],
   "outputs": [],
   "metadata": {}
  },
  {
   "cell_type": "code",
   "execution_count": null,
   "source": [
    "cluster_id = ''\n",
    "bucket = ''"
   ],
   "outputs": [],
   "metadata": {}
  },
  {
   "cell_type": "code",
   "execution_count": null,
   "source": [
    "resp = emr.add_job_flow_steps(\n",
    "    JobFlowId=cluster_id,\n",
    "    Steps=[\n",
    "        {\n",
    "            'Name': 'sample-spark',\n",
    "            'ActionOnFailure': 'CONTINUE',\n",
    "            'HadoopJarStep': {\n",
    "                'Jar': 'command-runner.jar',\n",
    "                'Args': [\n",
    "                    'spark-submit',\n",
    "                    '--name',\n",
    "                    'sample-spark',\n",
    "                    f's3://{bucket}/sample.py',\n",
    "                    'default',\n",
    "                    'spark_on_emr_workshop',\n",
    "                    'curated',\n",
    "                    'tripdata',\n",
    "                    f's3://{bucket}'\n",
    "                ],\n",
    "            }\n",
    "        },\n",
    "    ]\n",
    ")\n",
    "print(json.dumps(resp, indent=2))"
   ],
   "outputs": [],
   "metadata": {}
  },
  {
   "cell_type": "code",
   "execution_count": null,
   "source": [
    "resp = emr.list_steps(\n",
    "    ClusterId=cluster_id,\n",
    "#     StepStates=[\n",
    "#         'PENDING'|'CANCEL_PENDING'|'RUNNING'|'COMPLETED'|'CANCELLED'|'FAILED'|'INTERRUPTED',\n",
    "#     ],\n",
    "#     StepIds=[\n",
    "#         'string',\n",
    "#     ],\n",
    "#     Marker='string'\n",
    ")\n",
    "print(json.dumps(resp, indent=2))"
   ],
   "outputs": [],
   "metadata": {}
  },
  {
   "cell_type": "code",
   "execution_count": null,
   "source": [
    "resp = emr.describe_step(\n",
    "    ClusterId=cluster_id,\n",
    "    StepId='string'\n",
    ")\n",
    "print(json.dumps(resp, indent=2))"
   ],
   "outputs": [],
   "metadata": {}
  },
  {
   "cell_type": "code",
   "execution_count": null,
   "source": [
    "resp = emr.cancel_steps(\n",
    "    ClusterId=cluster_id,\n",
    "    StepIds=[\n",
    "        'string',\n",
    "    ],\n",
    "    StepCancellationOption='SEND_INTERRUPT'|'TERMINATE_PROCESS'\n",
    ")\n",
    "print(json.dumps(resp, indent=2))"
   ],
   "outputs": [],
   "metadata": {}
  }
 ],
 "metadata": {
  "kernelspec": {
   "display_name": "Python 3",
   "language": "python",
   "name": "python3"
  },
  "language_info": {
   "codemirror_mode": {
    "name": "ipython",
    "version": 3
   },
   "file_extension": ".py",
   "mimetype": "text/x-python",
   "name": "python",
   "nbconvert_exporter": "python",
   "pygments_lexer": "ipython3",
   "version": "3.7.4"
  }
 },
 "nbformat": 4,
 "nbformat_minor": 5
}