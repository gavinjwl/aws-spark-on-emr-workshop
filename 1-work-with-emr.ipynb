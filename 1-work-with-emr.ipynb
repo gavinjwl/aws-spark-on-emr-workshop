{
 "cells": [
  {
   "cell_type": "markdown",
   "source": [
    "# Work with EMR\n",
    "\n",
    "Agenda:\n",
    "\n",
    "1. Cataloging your data\n",
    "1. Execute Apache Spark jobs with\n",
    "    1. spark-submit\n",
    "    1. EMR Steps: Console and CLI\n",
    "1. AWS SDK for Python (Boto3)\n",
    "    1. Interact with S3\n",
    "    1. Interact with EMR Steps"
   ],
   "metadata": {}
  },
  {
   "cell_type": "markdown",
   "source": [
    "## Cataloging your data\n",
    "\n",
    "https://serverless-data-lake-immersionday.workshop.aws/en/lab2-cat-etl-process-data/catalog.html\n",
    "\n"
   ],
   "metadata": {}
  },
  {
   "cell_type": "markdown",
   "source": [
    "## Execute Apache Spark jobs"
   ],
   "metadata": {}
  },
  {
   "cell_type": "markdown",
   "source": [
    "Initialize SparkSession"
   ],
   "metadata": {}
  },
  {
   "cell_type": "code",
   "execution_count": null,
   "source": [
    "from pyspark.sql import SparkSession\n",
    "spark = SparkSession.builder.appName('pyspark-sample').getOrCreate()"
   ],
   "outputs": [],
   "metadata": {}
  },
  {
   "cell_type": "code",
   "execution_count": null,
   "source": [
    "spark.catalog.setCurrentDatabase('default')\n",
    "\n",
    "df = spark.read.table('tripdata')\n",
    "\n",
    "df.printSchema()"
   ],
   "outputs": [],
   "metadata": {}
  },
  {
   "cell_type": "code",
   "execution_count": null,
   "source": [
    "df.show(1, vertical=True)\n",
    "\n",
    "# spark.sql('select * from tripdata).show(1, vertical=True)"
   ],
   "outputs": [],
   "metadata": {}
  },
  {
   "cell_type": "code",
   "execution_count": null,
   "source": [
    "from pyspark.sql.functions import unix_timestamp, col, from_unixtime\n",
    "\n",
    "df = df\\\n",
    "    .withColumn(\n",
    "        'lpep_pickup_datetime', \n",
    "        from_unixtime(unix_timestamp(col('lpep_pickup_datetime'), 'M/d/yy H:mm'))\n",
    "    ).withColumn(\n",
    "        'lpep_dropoff_datetime', \n",
    "        from_unixtime(unix_timestamp(col('lpep_dropoff_datetime'), 'M/d/yy H:mm'))\n",
    "    )\n",
    "\n",
    "df.printSchema()\n",
    "df.show(5)"
   ],
   "outputs": [],
   "metadata": {}
  },
  {
   "cell_type": "code",
   "execution_count": null,
   "source": [
    "from pyspark.sql.functions import lit, count, when\n",
    "\n",
    "df.select([\n",
    "    count(\n",
    "        when(col(c).isNull(), lit(1))\n",
    "    ).alias(c)\n",
    "    for c in df.columns\n",
    "]).show(vertical=True)"
   ],
   "outputs": [],
   "metadata": {}
  },
  {
   "cell_type": "code",
   "execution_count": null,
   "source": [
    "from pyspark.sql.functions import isnull\n",
    "\n",
    "null_metadata = dict()\n",
    "\n",
    "for column in df.columns:\n",
    "    count = df.filter(isnull(col(column))).count()\n",
    "    if count > 0 and df.schema[column].dataType.typeName() == 'string':\n",
    "        null_metadata[column] = '__NULL__'\n",
    "    elif count > 0 and df.schema[column].dataType.typeName() in ['integer', 'double']:\n",
    "        null_metadata[column] = -1\n",
    "\n",
    "print(null_metadata)\n",
    "\n",
    "df = df.na.fill(null_metadata)\n",
    "df.show(1, vertical=True)"
   ],
   "outputs": [],
   "metadata": {}
  },
  {
   "cell_type": "code",
   "execution_count": null,
   "source": [
    "from pyspark.sql.functions import year, month, dayofmonth, hour\n",
    "\n",
    "df = df\\\n",
    "    .withColumn('_year', year(col('lpep_pickup_datetime')))\\\n",
    "    .withColumn('_month', month(col('lpep_pickup_datetime')))\\\n",
    "    .withColumn('_day', dayofmonth(col('lpep_pickup_datetime')))\\\n",
    "    .withColumn('_hour', hour(col('lpep_pickup_datetime')))"
   ],
   "outputs": [],
   "metadata": {}
  },
  {
   "cell_type": "code",
   "execution_count": null,
   "source": [
    "df.write.parquet(\n",
    "    'parquet/tripdata',\n",
    "    mode='overwrite',\n",
    "    partitionBy=['_year', '_month', '_day', '_hour'],\n",
    "    compression='snappy'\n",
    ")"
   ],
   "outputs": [],
   "metadata": {}
  },
  {
   "cell_type": "code",
   "execution_count": null,
   "source": [
    "spark.sql('CREATE DATABASE IF NOT EXISTS curated')\n",
    "df.write\\\n",
    "    .partitionBy('_year', '_month', '_day', '_hour')\\\n",
    "    .format('parquet')\\\n",
    "    .option('path', 'parquet/tripdata')\\\n",
    "    .mode('overwrite')\\\n",
    "    .saveAsTable('curated.tripdata')"
   ],
   "outputs": [],
   "metadata": {}
  },
  {
   "cell_type": "code",
   "execution_count": null,
   "source": [
    "databases = spark.catalog.listDatabases()\n",
    "\n",
    "print('Show databases')\n",
    "for db in databases:\n",
    "    print(db, '\\n')\n",
    "\n",
    "print('\\n\\n')\n",
    "tables = spark.catalog.listTables('curated')\n",
    "\n",
    "print('Show tables')\n",
    "for tb in tables:\n",
    "    print(tb, '\\n')"
   ],
   "outputs": [],
   "metadata": {}
  },
  {
   "cell_type": "code",
   "execution_count": null,
   "source": [],
   "outputs": [],
   "metadata": {}
  }
 ],
 "metadata": {
  "orig_nbformat": 4,
  "language_info": {
   "name": "python",
   "version": "3.7.12",
   "mimetype": "text/x-python",
   "codemirror_mode": {
    "name": "ipython",
    "version": 3
   },
   "pygments_lexer": "ipython3",
   "nbconvert_exporter": "python",
   "file_extension": ".py"
  },
  "kernelspec": {
   "name": "python3",
   "display_name": "Python 3.7.11 64-bit"
  },
  "interpreter": {
   "hash": "407910dc9194d5420ce0f0143fecb83fef8c348660603d21cda0898c7dd6e099"
  }
 },
 "nbformat": 4,
 "nbformat_minor": 2
}