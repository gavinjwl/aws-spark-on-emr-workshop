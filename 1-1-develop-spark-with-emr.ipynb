{
 "cells": [
  {
   "cell_type": "markdown",
   "source": [
    "# Develop Apache Spark with EMR Notebook\n",
    "\n",
    "Prepare: [Cataloging your data](https://serverless-data-lake-immersionday.workshop.aws/en/lab2-cat-etl-process-data/catalog.html)"
   ],
   "metadata": {}
  },
  {
   "cell_type": "markdown",
   "source": [
    "## Develop Apache Spark with EMR"
   ],
   "metadata": {}
  },
  {
   "cell_type": "markdown",
   "source": [
    "Initialize SparkSession"
   ],
   "metadata": {}
  },
  {
   "cell_type": "code",
   "execution_count": null,
   "source": [
    "### unnecessary for EMR notebook\n",
    "# from pyspark.sql import SparkSession\n",
    "# spark = SparkSession.builder\\\n",
    "#     .enableHiveSupport()\\\n",
    "#     .appName('pyspark-sample').getOrCreate()"
   ],
   "outputs": [],
   "metadata": {}
  },
  {
   "cell_type": "code",
   "execution_count": null,
   "source": [
    "source_database = ''\n",
    "source_table = ''\n",
    "\n",
    "spark.catalog.setCurrentDatabase(source_database)\n",
    "\n",
    "df = spark.read.table(source_table)\n",
    "\n",
    "df.printSchema()"
   ],
   "outputs": [],
   "metadata": {}
  },
  {
   "cell_type": "code",
   "execution_count": null,
   "source": [
    "df.show(1, vertical=True)"
   ],
   "outputs": [],
   "metadata": {}
  },
  {
   "cell_type": "code",
   "execution_count": null,
   "source": [
    "from pyspark.sql.functions import unix_timestamp, col, from_unixtime\n",
    "\n",
    "df = df\\\n",
    "    .withColumn(\n",
    "        'lpep_pickup_datetime', \n",
    "        from_unixtime(unix_timestamp(col('lpep_pickup_datetime'), 'M/d/yy H:mm'))\n",
    "    ).withColumn(\n",
    "        'lpep_dropoff_datetime', \n",
    "        from_unixtime(unix_timestamp(col('lpep_dropoff_datetime'), 'M/d/yy H:mm'))\n",
    "    )\n",
    "\n",
    "df.printSchema()\n",
    "df.show(5)"
   ],
   "outputs": [],
   "metadata": {}
  },
  {
   "cell_type": "code",
   "execution_count": null,
   "source": [
    "from pyspark.sql.functions import lit, count, when\n",
    "\n",
    "df.select([\n",
    "    count(\n",
    "        when(col(c).isNull(), lit(1))\n",
    "    ).alias(c)\n",
    "    for c in df.columns\n",
    "]).show(vertical=True)"
   ],
   "outputs": [],
   "metadata": {}
  },
  {
   "cell_type": "code",
   "execution_count": null,
   "source": [
    "df = df.na.drop(how='any', subset=['lpep_pickup_datetime', 'lpep_dropoff_datetime'])"
   ],
   "outputs": [],
   "metadata": {}
  },
  {
   "cell_type": "code",
   "execution_count": null,
   "source": [
    "from pyspark.sql.functions import isnull\n",
    "\n",
    "null_metadata = dict()\n",
    "\n",
    "for column in df.columns:\n",
    "    count = df.filter(isnull(col(column))).count()\n",
    "    if count > 0 and df.schema[column].dataType.typeName() == 'string':\n",
    "        null_metadata[column] = '__NULL__'\n",
    "    elif count > 0 and df.schema[column].dataType.typeName() in ['integer', 'double']:\n",
    "        null_metadata[column] = -1\n",
    "\n",
    "print(null_metadata)\n",
    "\n",
    "df = df.na.fill(null_metadata)"
   ],
   "outputs": [],
   "metadata": {}
  },
  {
   "cell_type": "code",
   "execution_count": null,
   "source": [
    "df.show(1, vertical=True)"
   ],
   "outputs": [],
   "metadata": {}
  },
  {
   "cell_type": "code",
   "execution_count": null,
   "source": [
    "from pyspark.sql.functions import year, month, dayofmonth, hour\n",
    "\n",
    "df = df\\\n",
    "    .withColumn('_year', year(col('lpep_pickup_datetime')))\\\n",
    "    .withColumn('_month', month(col('lpep_pickup_datetime')))\\\n",
    "    .withColumn('_day', dayofmonth(col('lpep_pickup_datetime')))\\\n",
    "    .withColumn('_hour', hour(col('lpep_pickup_datetime')))"
   ],
   "outputs": [],
   "metadata": {}
  },
  {
   "cell_type": "code",
   "execution_count": null,
   "source": [
    "target_database = ''\n",
    "target_table = ''\n",
    "target_host = ''"
   ],
   "outputs": [],
   "metadata": {}
  },
  {
   "cell_type": "code",
   "execution_count": null,
   "source": [
    "### Directly write to S3 without register catalog\n",
    "# df.write.parquet(\n",
    "#     f'{target_host}/parquet/{target_table}',\n",
    "#     mode='overwrite',\n",
    "#     partitionBy=['_year', '_month', '_day', '_hour'],\n",
    "#     compression='snappy'\n",
    "# )"
   ],
   "outputs": [],
   "metadata": {}
  },
  {
   "cell_type": "code",
   "execution_count": null,
   "source": [
    "spark.sql(f\"CREATE DATABASE IF NOT EXISTS {target_database}\")\n",
    "df.write\\\n",
    "    .partitionBy('_year', '_month', '_day', '_hour')\\\n",
    "    .format('parquet')\\\n",
    "    .option('path', f'{target_host}/parquet/{target_table}')\\\n",
    "    .mode('overwrite')\\\n",
    "    .saveAsTable(f'{target_database}.{target_table}')"
   ],
   "outputs": [],
   "metadata": {}
  },
  {
   "cell_type": "code",
   "execution_count": null,
   "source": [
    "tables = spark.catalog.listTables(target_database)\n",
    "\n",
    "print('Show tables')\n",
    "for tb in tables:\n",
    "    print(tb, '\\n')"
   ],
   "outputs": [],
   "metadata": {}
  },
  {
   "cell_type": "code",
   "execution_count": null,
   "source": [],
   "outputs": [],
   "metadata": {}
  }
 ],
 "metadata": {
  "orig_nbformat": 4,
  "language_info": {
   "name": "python",
   "version": "3.7.11",
   "mimetype": "text/x-python",
   "codemirror_mode": {
    "name": "ipython",
    "version": 3
   },
   "pygments_lexer": "ipython3",
   "nbconvert_exporter": "python",
   "file_extension": ".py"
  },
  "kernelspec": {
   "name": "python3",
   "display_name": "Python 3.7.11 64-bit"
  },
  "interpreter": {
   "hash": "407910dc9194d5420ce0f0143fecb83fef8c348660603d21cda0898c7dd6e099"
  }
 },
 "nbformat": 4,
 "nbformat_minor": 2
}