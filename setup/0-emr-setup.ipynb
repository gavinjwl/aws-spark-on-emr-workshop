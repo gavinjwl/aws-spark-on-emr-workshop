{
 "cells": [
  {
   "cell_type": "markdown",
   "source": [
    "# EMR workshop - Setup\n",
    "\n",
    "Agenda:\n",
    "\n",
    "1. Create KeyPair\n",
    "1. Create Security Group and allow ONLY your IP address\n",
    "1. Launch EMR Cluster with specfic applications and configurations.\n",
    "1. Launch EMR Notebook\n",
    "1. Upload sample data\n"
   ],
   "metadata": {}
  },
  {
   "cell_type": "markdown",
   "source": [
    "## Create KeyPair\n",
    "\n",
    "https://emr-etl.workshop.aws/setup/keypair.html"
   ],
   "metadata": {}
  },
  {
   "cell_type": "markdown",
   "source": [
    "## Create Security Group and allow ONLY your IP address "
   ],
   "metadata": {}
  },
  {
   "cell_type": "markdown",
   "source": [
    "## Launch EMR Cluster with specific applications and configurations\n",
    "\n",
    "https://emr-etl.workshop.aws/cluster_creation.html\n",
    "\n",
    "- EMR release label: emr-6.4.0\n",
    "- Applications\n",
    "    - Hadoop\n",
    "    - Spark\n",
    "    - Hive\n",
    "    - Livy\n",
    "    - JupyterNotebook\n",
    "    - JupyterEnterpriceGateway\n",
    "- Configurations\n",
    "    ```json\n",
    "    [\n",
    "        {\n",
    "            \"classification\": \"hive-site\",\n",
    "            \"properties\": {\n",
    "                \"hive.metastore.client.factory.class\": \"com.amazonaws.glue.catalog.metastore.AWSGlueDataCatalogHiveClientFactory\"\n",
    "            },\n",
    "            \"configurations\": []\n",
    "        },\n",
    "        {\n",
    "            \"classification\": \"spark-hive-site\",\n",
    "            \"properties\": {\n",
    "                \"hive.metastore.client.factory.class\": \"com.amazonaws.glue.catalog.metastore.AWSGlueDataCatalogHiveClientFactory\"\n",
    "            },\n",
    "            \"configurations\": []\n",
    "        },\n",
    "        {\n",
    "            \"classification\": \"jupyter-s3-conf\",\n",
    "            \"properties\": {\n",
    "                \"s3.persistence.bucket\": \"aws-emr-resources-<account-id>-<region>\",\n",
    "                \"s3.persistence.enabled\": \"true\"\n",
    "            },\n",
    "            \"configurations\": []\n",
    "        }\n",
    "    ]\n",
    "    ```"
   ],
   "metadata": {}
  },
  {
   "cell_type": "markdown",
   "source": [
    "## Launch EMR Notebook\n",
    "\n",
    "https://emr-etl.workshop.aws/spark_etl/create_emr_notebook.html"
   ],
   "metadata": {}
  },
  {
   "cell_type": "markdown",
   "source": [
    "## Upload sample data \n",
    "\n",
    "Source url: `https://s3.amazonaws.com/aws-data-analytics-blog/emrimmersionday/tripdata.csv`\n",
    "\n",
    "```bash\n",
    "aws s3 cp \\\n",
    "    s3://aws-data-analytics-blog/emrimmersionday/tripdata.csv \\\n",
    "    s3://<your-bucket>/csv/tripdata.csv\n",
    "```"
   ],
   "metadata": {}
  }
 ],
 "metadata": {
  "orig_nbformat": 4,
  "language_info": {
   "name": "python"
  }
 },
 "nbformat": 4,
 "nbformat_minor": 2
}